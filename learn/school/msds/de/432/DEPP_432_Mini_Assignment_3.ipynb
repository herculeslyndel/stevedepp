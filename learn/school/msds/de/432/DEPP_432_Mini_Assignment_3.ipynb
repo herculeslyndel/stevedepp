{
 "cells": [
  {
   "cell_type": "raw",
   "metadata": {},
   "source": [
    "Steve Depp \n",
    "432 - 55\n",
    "Mini Programming Assignment 3: "
   ]
  },
  {
   "cell_type": "raw",
   "metadata": {},
   "source": [
    "Import libraries"
   ]
  },
  {
   "cell_type": "code",
   "execution_count": 1,
   "metadata": {},
   "outputs": [],
   "source": [
    "import numpy as np\n",
    "import time\n",
    "import pandas as pd\n",
    "import math\n",
    "\n",
    "np.random.seed(seed=42)"
   ]
  },
  {
   "cell_type": "raw",
   "metadata": {},
   "source": [
    "Define a small function to reformat large integer to scientific notation.\n",
    "    assign string version of x to s\n",
    "    one less than s length is base 10 exponent of x; assign to exp\n",
    "    divide x by 10 to power exp\n",
    "    collect 4 significant digits of s\n",
    "    return string in scientific notation"
   ]
  },
  {
   "cell_type": "code",
   "execution_count": 2,
   "metadata": {},
   "outputs": [
    {
     "name": "stdout",
     "output_type": "stream",
     "text": [
      "1.23*10^5\n"
     ]
    },
    {
     "data": {
      "text/plain": [
       "123456.00000000001"
      ]
     },
     "execution_count": 2,
     "metadata": {},
     "output_type": "execute_result"
    }
   ],
   "source": [
    "def int_to_sci(x):\n",
    "    s = str(x)\n",
    "    exp = len(s)-1\n",
    "    s = x/10**exp\n",
    "    s=str(s)[0:4]\n",
    "    return s+'*10^'+str(exp)\n",
    "    \n",
    "print(int_to_sci(123456))\n",
    "1.23456*10**5"
   ]
  },
  {
   "cell_type": "raw",
   "metadata": {},
   "source": [
    "Define function to assemble factorial(x) by for loop\n",
    "    factorial of zero = 1. so 1 initializes fact variable\n",
    "    for each number i in range constructor, counting from x to 1 in -1 steps \n",
    "        multiply that i times the existing value of fact\n",
    "        until steps reach 1\n",
    "    return fact\n",
    "    \n",
    "The advantage of the range type over a regular list or tuple is that a range object will always take the same (small) amount of memory, no matter the size of the range it represents (as it only stores the start, stop and step values, calculating individual items and subranges as needed)."
   ]
  },
  {
   "cell_type": "code",
   "execution_count": 3,
   "metadata": {},
   "outputs": [
    {
     "data": {
      "text/plain": [
       "'1.22*10^1134'"
      ]
     },
     "execution_count": 3,
     "metadata": {},
     "output_type": "execute_result"
    }
   ],
   "source": [
    "def fact_by_for(x):\n",
    "    fact = 1\n",
    "    for i in range(x,1,-1):\n",
    "        fact *=i\n",
    "    return fact\n",
    "c = fact_by_for(500)\n",
    "int_to_sci(c)"
   ]
  },
  {
   "cell_type": "raw",
   "metadata": {},
   "source": [
    "Define function to assemble factorial(x) by for recursion\n",
    "    convert x parameter to integer; helps with boolean\n",
    "    if x = 1, return x\n",
    "    else return x * recursive call to fact_by_rec on x-1\n",
    "    until the original condition if x = 1 is true, \n",
    "    which leads to end of function and return of final result."
   ]
  },
  {
   "cell_type": "code",
   "execution_count": 4,
   "metadata": {},
   "outputs": [
    {
     "data": {
      "text/plain": [
       "'1.22*10^1134'"
      ]
     },
     "execution_count": 4,
     "metadata": {},
     "output_type": "execute_result"
    }
   ],
   "source": [
    "def fact_by_rec(x):\n",
    "    x=int(x)\n",
    "    if x == 1:\n",
    "        return 1\n",
    "    else:\n",
    "        return x*fact_by_rec(x-1)\n",
    "c = fact_by_rec(500)\n",
    "int_to_sci(c)"
   ]
  },
  {
   "cell_type": "raw",
   "metadata": {},
   "source": [
    "Create timer DF to collect the number, the time to calculate factorial(number) by way of recursive and loop structure.\n",
    "\n",
    "Create an array of 10 random integers between 100 and 500\n",
    "\n",
    "for each of 10 numbers\n",
    "\n",
    "    assign an empty timer_array to collect results\n",
    "    first element of this array is the domain of factorial (number)\n",
    "    for recursive structure and then for loop structure, these steps:\n",
    "        start timer, \n",
    "        calculate factorial, \n",
    "        assign result to variable, \n",
    "        append result to timer_array, \n",
    "        end timer, \n",
    "        append time difference to timer_array, \n",
    "        calc time per step, \n",
    "        append time per step to timer_array\n",
    "    \n",
    "    move timer_array to r which is a panda Series\n",
    "    append r to timer df as a row"
   ]
  },
  {
   "cell_type": "code",
   "execution_count": 5,
   "metadata": {},
   "outputs": [],
   "source": [
    "timer = pd.DataFrame(columns=['number', 'rec_res','rec_time', 'rec_time_per', 'for_res','for_time', 'for_time_per', 'diff_time', 'diff_time_per'])\n",
    "\n",
    "a = np.random.randint(100,500,10)\n",
    "\n",
    "for i in a:\n",
    "    \n",
    "    timer_array=[]\n",
    "    \n",
    "    timer_array.append(i)\n",
    "\n",
    "    start_rec = time.time()\n",
    "    res_rec = fact_by_rec(i)\n",
    "    end_rec = time.time()\n",
    "    time_rec = end_rec-start_rec\n",
    "    timer_array.append(int_to_sci(res_rec))\n",
    "    timer_array.append(time_rec)\n",
    "    time_rec_per = time_rec/i\n",
    "    timer_array.append(time_rec_per)\n",
    "\n",
    "    start_for = time.time()\n",
    "    res_for = fact_by_for(i)\n",
    "    end_for = time.time()\n",
    "    time_for = end_for-start_for\n",
    "    timer_array.append(int_to_sci(res_for))\n",
    "    timer_array.append(time_for)\n",
    "    time_for_per = time_for/i\n",
    "    timer_array.append(time_for_per)\n",
    "    \n",
    "    time_diff = abs(time_rec-time_for)\n",
    "    timer_array.append(time_diff)\n",
    "    time_diff_per = time_diff/i\n",
    "    timer_array.append(time_diff_per)\n",
    "    \n",
    "    r = pd.Series(timer_array, index=timer.columns)\n",
    "    timer = timer.append(r, ignore_index=True)"
   ]
  },
  {
   "cell_type": "code",
   "execution_count": 6,
   "metadata": {
    "scrolled": true
   },
   "outputs": [
    {
     "data": {
      "text/html": [
       "<div>\n",
       "<style scoped>\n",
       "    .dataframe tbody tr th:only-of-type {\n",
       "        vertical-align: middle;\n",
       "    }\n",
       "\n",
       "    .dataframe tbody tr th {\n",
       "        vertical-align: top;\n",
       "    }\n",
       "\n",
       "    .dataframe thead th {\n",
       "        text-align: right;\n",
       "    }\n",
       "</style>\n",
       "<table border=\"1\" class=\"dataframe\">\n",
       "  <thead>\n",
       "    <tr style=\"text-align: right;\">\n",
       "      <th></th>\n",
       "      <th>number</th>\n",
       "      <th>rec_res</th>\n",
       "      <th>rec_time</th>\n",
       "      <th>rec_time_per</th>\n",
       "      <th>for_res</th>\n",
       "      <th>for_time</th>\n",
       "      <th>for_time_per</th>\n",
       "      <th>diff_time</th>\n",
       "      <th>diff_time_per</th>\n",
       "    </tr>\n",
       "  </thead>\n",
       "  <tbody>\n",
       "    <tr>\n",
       "      <th>0</th>\n",
       "      <td>202</td>\n",
       "      <td>3.20*10^379</td>\n",
       "      <td>0.000210</td>\n",
       "      <td>1.039835e-06</td>\n",
       "      <td>3.20*10^379</td>\n",
       "      <td>0.000026</td>\n",
       "      <td>1.286516e-07</td>\n",
       "      <td>0.000184</td>\n",
       "      <td>9.111839e-07</td>\n",
       "    </tr>\n",
       "    <tr>\n",
       "      <th>1</th>\n",
       "      <td>448</td>\n",
       "      <td>8.57*10^994</td>\n",
       "      <td>0.000299</td>\n",
       "      <td>6.673591e-07</td>\n",
       "      <td>8.57*10^994</td>\n",
       "      <td>0.000071</td>\n",
       "      <td>1.585909e-07</td>\n",
       "      <td>0.000228</td>\n",
       "      <td>5.087682e-07</td>\n",
       "    </tr>\n",
       "    <tr>\n",
       "      <th>2</th>\n",
       "      <td>370</td>\n",
       "      <td>1.69*10^791</td>\n",
       "      <td>0.000158</td>\n",
       "      <td>4.272203e-07</td>\n",
       "      <td>1.69*10^791</td>\n",
       "      <td>0.000055</td>\n",
       "      <td>1.488505e-07</td>\n",
       "      <td>0.000103</td>\n",
       "      <td>2.783698e-07</td>\n",
       "    </tr>\n",
       "    <tr>\n",
       "      <th>3</th>\n",
       "      <td>206</td>\n",
       "      <td>5.59*10^388</td>\n",
       "      <td>0.000079</td>\n",
       "      <td>3.842474e-07</td>\n",
       "      <td>5.59*10^388</td>\n",
       "      <td>0.000025</td>\n",
       "      <td>1.215240e-07</td>\n",
       "      <td>0.000054</td>\n",
       "      <td>2.627234e-07</td>\n",
       "    </tr>\n",
       "    <tr>\n",
       "      <th>4</th>\n",
       "      <td>171</td>\n",
       "      <td>1.24*10^309</td>\n",
       "      <td>0.000062</td>\n",
       "      <td>3.625078e-07</td>\n",
       "      <td>1.24*10^309</td>\n",
       "      <td>0.000019</td>\n",
       "      <td>1.115409e-07</td>\n",
       "      <td>0.000043</td>\n",
       "      <td>2.509669e-07</td>\n",
       "    </tr>\n",
       "    <tr>\n",
       "      <th>5</th>\n",
       "      <td>288</td>\n",
       "      <td>7.19*10^584</td>\n",
       "      <td>0.000118</td>\n",
       "      <td>4.097819e-07</td>\n",
       "      <td>7.19*10^584</td>\n",
       "      <td>0.000038</td>\n",
       "      <td>1.316269e-07</td>\n",
       "      <td>0.000080</td>\n",
       "      <td>2.781550e-07</td>\n",
       "    </tr>\n",
       "    <tr>\n",
       "      <th>6</th>\n",
       "      <td>120</td>\n",
       "      <td>6.68*10^198</td>\n",
       "      <td>0.000043</td>\n",
       "      <td>3.596147e-07</td>\n",
       "      <td>6.68*10^198</td>\n",
       "      <td>0.000013</td>\n",
       "      <td>1.092752e-07</td>\n",
       "      <td>0.000030</td>\n",
       "      <td>2.503395e-07</td>\n",
       "    </tr>\n",
       "    <tr>\n",
       "      <th>7</th>\n",
       "      <td>202</td>\n",
       "      <td>3.20*10^379</td>\n",
       "      <td>0.000070</td>\n",
       "      <td>3.481855e-07</td>\n",
       "      <td>3.20*10^379</td>\n",
       "      <td>0.000024</td>\n",
       "      <td>1.192093e-07</td>\n",
       "      <td>0.000046</td>\n",
       "      <td>2.289763e-07</td>\n",
       "    </tr>\n",
       "    <tr>\n",
       "      <th>8</th>\n",
       "      <td>221</td>\n",
       "      <td>5.04*10^423</td>\n",
       "      <td>0.000073</td>\n",
       "      <td>3.301180e-07</td>\n",
       "      <td>5.04*10^423</td>\n",
       "      <td>0.000025</td>\n",
       "      <td>1.132758e-07</td>\n",
       "      <td>0.000048</td>\n",
       "      <td>2.168422e-07</td>\n",
       "    </tr>\n",
       "    <tr>\n",
       "      <th>9</th>\n",
       "      <td>314</td>\n",
       "      <td>2.06*10^649</td>\n",
       "      <td>0.000110</td>\n",
       "      <td>3.500349e-07</td>\n",
       "      <td>2.06*10^649</td>\n",
       "      <td>0.000039</td>\n",
       "      <td>1.237651e-07</td>\n",
       "      <td>0.000071</td>\n",
       "      <td>2.262699e-07</td>\n",
       "    </tr>\n",
       "  </tbody>\n",
       "</table>\n",
       "</div>"
      ],
      "text/plain": [
       "  number      rec_res  rec_time  rec_time_per      for_res  for_time  \\\n",
       "0    202  3.20*10^379  0.000210  1.039835e-06  3.20*10^379  0.000026   \n",
       "1    448  8.57*10^994  0.000299  6.673591e-07  8.57*10^994  0.000071   \n",
       "2    370  1.69*10^791  0.000158  4.272203e-07  1.69*10^791  0.000055   \n",
       "3    206  5.59*10^388  0.000079  3.842474e-07  5.59*10^388  0.000025   \n",
       "4    171  1.24*10^309  0.000062  3.625078e-07  1.24*10^309  0.000019   \n",
       "5    288  7.19*10^584  0.000118  4.097819e-07  7.19*10^584  0.000038   \n",
       "6    120  6.68*10^198  0.000043  3.596147e-07  6.68*10^198  0.000013   \n",
       "7    202  3.20*10^379  0.000070  3.481855e-07  3.20*10^379  0.000024   \n",
       "8    221  5.04*10^423  0.000073  3.301180e-07  5.04*10^423  0.000025   \n",
       "9    314  2.06*10^649  0.000110  3.500349e-07  2.06*10^649  0.000039   \n",
       "\n",
       "   for_time_per  diff_time  diff_time_per  \n",
       "0  1.286516e-07   0.000184   9.111839e-07  \n",
       "1  1.585909e-07   0.000228   5.087682e-07  \n",
       "2  1.488505e-07   0.000103   2.783698e-07  \n",
       "3  1.215240e-07   0.000054   2.627234e-07  \n",
       "4  1.115409e-07   0.000043   2.509669e-07  \n",
       "5  1.316269e-07   0.000080   2.781550e-07  \n",
       "6  1.092752e-07   0.000030   2.503395e-07  \n",
       "7  1.192093e-07   0.000046   2.289763e-07  \n",
       "8  1.132758e-07   0.000048   2.168422e-07  \n",
       "9  1.237651e-07   0.000071   2.262699e-07  "
      ]
     },
     "execution_count": 6,
     "metadata": {},
     "output_type": "execute_result"
    }
   ],
   "source": [
    "timer"
   ]
  },
  {
   "cell_type": "raw",
   "metadata": {},
   "source": [
    "Summary tables and plots:\n",
    "    To the timer dataframe \n",
    "        append a column to calculate the ratio of recursive time to for loop time.\n",
    "        move the number n whose factorial is calculated to the dataframe index\n",
    "        sort the index (and thusly the dataframe)\n",
    "    Create 3 tables and sort them by their index\n",
    "        3 totals time columns: \n",
    "            rec_time = total time to calculate n! by recursive method \n",
    "            for_time = total time to calculate n! by for loop method\n",
    "            diff_time = difference between recursive and for loop method times\n",
    "        3 per operation time columns: \n",
    "            rec_time, for_time, diff_time divided by n = the number whose factorial is computed\n",
    "            ->rec_time_per, for_time_per, diff_time_per\n",
    "        1 column of ratio of recursive/for loop times per operation."
   ]
  },
  {
   "cell_type": "code",
   "execution_count": 7,
   "metadata": {},
   "outputs": [],
   "source": [
    "timer['ratio_per'] = timer.rec_time_per/timer.for_time_per"
   ]
  },
  {
   "cell_type": "code",
   "execution_count": 8,
   "metadata": {},
   "outputs": [],
   "source": [
    "timer = timer.set_index('number')"
   ]
  },
  {
   "cell_type": "code",
   "execution_count": 9,
   "metadata": {},
   "outputs": [
    {
     "data": {
      "text/html": [
       "<div>\n",
       "<style scoped>\n",
       "    .dataframe tbody tr th:only-of-type {\n",
       "        vertical-align: middle;\n",
       "    }\n",
       "\n",
       "    .dataframe tbody tr th {\n",
       "        vertical-align: top;\n",
       "    }\n",
       "\n",
       "    .dataframe thead th {\n",
       "        text-align: right;\n",
       "    }\n",
       "</style>\n",
       "<table border=\"1\" class=\"dataframe\">\n",
       "  <thead>\n",
       "    <tr style=\"text-align: right;\">\n",
       "      <th></th>\n",
       "      <th>rec_res</th>\n",
       "      <th>rec_time</th>\n",
       "      <th>rec_time_per</th>\n",
       "      <th>for_res</th>\n",
       "      <th>for_time</th>\n",
       "      <th>for_time_per</th>\n",
       "      <th>diff_time</th>\n",
       "      <th>diff_time_per</th>\n",
       "      <th>ratio_per</th>\n",
       "    </tr>\n",
       "    <tr>\n",
       "      <th>number</th>\n",
       "      <th></th>\n",
       "      <th></th>\n",
       "      <th></th>\n",
       "      <th></th>\n",
       "      <th></th>\n",
       "      <th></th>\n",
       "      <th></th>\n",
       "      <th></th>\n",
       "      <th></th>\n",
       "    </tr>\n",
       "  </thead>\n",
       "  <tbody>\n",
       "    <tr>\n",
       "      <th>120</th>\n",
       "      <td>6.68*10^198</td>\n",
       "      <td>0.000043</td>\n",
       "      <td>3.596147e-07</td>\n",
       "      <td>6.68*10^198</td>\n",
       "      <td>0.000013</td>\n",
       "      <td>1.092752e-07</td>\n",
       "      <td>0.000030</td>\n",
       "      <td>2.503395e-07</td>\n",
       "      <td>3.290909</td>\n",
       "    </tr>\n",
       "    <tr>\n",
       "      <th>171</th>\n",
       "      <td>1.24*10^309</td>\n",
       "      <td>0.000062</td>\n",
       "      <td>3.625078e-07</td>\n",
       "      <td>1.24*10^309</td>\n",
       "      <td>0.000019</td>\n",
       "      <td>1.115409e-07</td>\n",
       "      <td>0.000043</td>\n",
       "      <td>2.509669e-07</td>\n",
       "      <td>3.250000</td>\n",
       "    </tr>\n",
       "    <tr>\n",
       "      <th>202</th>\n",
       "      <td>3.20*10^379</td>\n",
       "      <td>0.000210</td>\n",
       "      <td>1.039835e-06</td>\n",
       "      <td>3.20*10^379</td>\n",
       "      <td>0.000026</td>\n",
       "      <td>1.286516e-07</td>\n",
       "      <td>0.000184</td>\n",
       "      <td>9.111839e-07</td>\n",
       "      <td>8.082569</td>\n",
       "    </tr>\n",
       "    <tr>\n",
       "      <th>202</th>\n",
       "      <td>3.20*10^379</td>\n",
       "      <td>0.000070</td>\n",
       "      <td>3.481855e-07</td>\n",
       "      <td>3.20*10^379</td>\n",
       "      <td>0.000024</td>\n",
       "      <td>1.192093e-07</td>\n",
       "      <td>0.000046</td>\n",
       "      <td>2.289763e-07</td>\n",
       "      <td>2.920792</td>\n",
       "    </tr>\n",
       "    <tr>\n",
       "      <th>206</th>\n",
       "      <td>5.59*10^388</td>\n",
       "      <td>0.000079</td>\n",
       "      <td>3.842474e-07</td>\n",
       "      <td>5.59*10^388</td>\n",
       "      <td>0.000025</td>\n",
       "      <td>1.215240e-07</td>\n",
       "      <td>0.000054</td>\n",
       "      <td>2.627234e-07</td>\n",
       "      <td>3.161905</td>\n",
       "    </tr>\n",
       "    <tr>\n",
       "      <th>221</th>\n",
       "      <td>5.04*10^423</td>\n",
       "      <td>0.000073</td>\n",
       "      <td>3.301180e-07</td>\n",
       "      <td>5.04*10^423</td>\n",
       "      <td>0.000025</td>\n",
       "      <td>1.132758e-07</td>\n",
       "      <td>0.000048</td>\n",
       "      <td>2.168422e-07</td>\n",
       "      <td>2.914286</td>\n",
       "    </tr>\n",
       "    <tr>\n",
       "      <th>288</th>\n",
       "      <td>7.19*10^584</td>\n",
       "      <td>0.000118</td>\n",
       "      <td>4.097819e-07</td>\n",
       "      <td>7.19*10^584</td>\n",
       "      <td>0.000038</td>\n",
       "      <td>1.316269e-07</td>\n",
       "      <td>0.000080</td>\n",
       "      <td>2.781550e-07</td>\n",
       "      <td>3.113208</td>\n",
       "    </tr>\n",
       "    <tr>\n",
       "      <th>314</th>\n",
       "      <td>2.06*10^649</td>\n",
       "      <td>0.000110</td>\n",
       "      <td>3.500349e-07</td>\n",
       "      <td>2.06*10^649</td>\n",
       "      <td>0.000039</td>\n",
       "      <td>1.237651e-07</td>\n",
       "      <td>0.000071</td>\n",
       "      <td>2.262699e-07</td>\n",
       "      <td>2.828221</td>\n",
       "    </tr>\n",
       "    <tr>\n",
       "      <th>370</th>\n",
       "      <td>1.69*10^791</td>\n",
       "      <td>0.000158</td>\n",
       "      <td>4.272203e-07</td>\n",
       "      <td>1.69*10^791</td>\n",
       "      <td>0.000055</td>\n",
       "      <td>1.488505e-07</td>\n",
       "      <td>0.000103</td>\n",
       "      <td>2.783698e-07</td>\n",
       "      <td>2.870130</td>\n",
       "    </tr>\n",
       "    <tr>\n",
       "      <th>448</th>\n",
       "      <td>8.57*10^994</td>\n",
       "      <td>0.000299</td>\n",
       "      <td>6.673591e-07</td>\n",
       "      <td>8.57*10^994</td>\n",
       "      <td>0.000071</td>\n",
       "      <td>1.585909e-07</td>\n",
       "      <td>0.000228</td>\n",
       "      <td>5.087682e-07</td>\n",
       "      <td>4.208054</td>\n",
       "    </tr>\n",
       "  </tbody>\n",
       "</table>\n",
       "</div>"
      ],
      "text/plain": [
       "            rec_res  rec_time  rec_time_per      for_res  for_time  \\\n",
       "number                                                               \n",
       "120     6.68*10^198  0.000043  3.596147e-07  6.68*10^198  0.000013   \n",
       "171     1.24*10^309  0.000062  3.625078e-07  1.24*10^309  0.000019   \n",
       "202     3.20*10^379  0.000210  1.039835e-06  3.20*10^379  0.000026   \n",
       "202     3.20*10^379  0.000070  3.481855e-07  3.20*10^379  0.000024   \n",
       "206     5.59*10^388  0.000079  3.842474e-07  5.59*10^388  0.000025   \n",
       "221     5.04*10^423  0.000073  3.301180e-07  5.04*10^423  0.000025   \n",
       "288     7.19*10^584  0.000118  4.097819e-07  7.19*10^584  0.000038   \n",
       "314     2.06*10^649  0.000110  3.500349e-07  2.06*10^649  0.000039   \n",
       "370     1.69*10^791  0.000158  4.272203e-07  1.69*10^791  0.000055   \n",
       "448     8.57*10^994  0.000299  6.673591e-07  8.57*10^994  0.000071   \n",
       "\n",
       "        for_time_per  diff_time  diff_time_per  ratio_per  \n",
       "number                                                     \n",
       "120     1.092752e-07   0.000030   2.503395e-07   3.290909  \n",
       "171     1.115409e-07   0.000043   2.509669e-07   3.250000  \n",
       "202     1.286516e-07   0.000184   9.111839e-07   8.082569  \n",
       "202     1.192093e-07   0.000046   2.289763e-07   2.920792  \n",
       "206     1.215240e-07   0.000054   2.627234e-07   3.161905  \n",
       "221     1.132758e-07   0.000048   2.168422e-07   2.914286  \n",
       "288     1.316269e-07   0.000080   2.781550e-07   3.113208  \n",
       "314     1.237651e-07   0.000071   2.262699e-07   2.828221  \n",
       "370     1.488505e-07   0.000103   2.783698e-07   2.870130  \n",
       "448     1.585909e-07   0.000228   5.087682e-07   4.208054  "
      ]
     },
     "execution_count": 9,
     "metadata": {},
     "output_type": "execute_result"
    }
   ],
   "source": [
    "timer = timer.sort_index()\n",
    "timer"
   ]
  },
  {
   "cell_type": "code",
   "execution_count": 10,
   "metadata": {},
   "outputs": [
    {
     "data": {
      "text/html": [
       "<div>\n",
       "<style scoped>\n",
       "    .dataframe tbody tr th:only-of-type {\n",
       "        vertical-align: middle;\n",
       "    }\n",
       "\n",
       "    .dataframe tbody tr th {\n",
       "        vertical-align: top;\n",
       "    }\n",
       "\n",
       "    .dataframe thead th {\n",
       "        text-align: right;\n",
       "    }\n",
       "</style>\n",
       "<table border=\"1\" class=\"dataframe\">\n",
       "  <thead>\n",
       "    <tr style=\"text-align: right;\">\n",
       "      <th></th>\n",
       "      <th>rec_time</th>\n",
       "      <th>for_time</th>\n",
       "      <th>diff_time</th>\n",
       "    </tr>\n",
       "    <tr>\n",
       "      <th>number</th>\n",
       "      <th></th>\n",
       "      <th></th>\n",
       "      <th></th>\n",
       "    </tr>\n",
       "  </thead>\n",
       "  <tbody>\n",
       "    <tr>\n",
       "      <th>120</th>\n",
       "      <td>0.000043</td>\n",
       "      <td>0.000013</td>\n",
       "      <td>0.000030</td>\n",
       "    </tr>\n",
       "    <tr>\n",
       "      <th>171</th>\n",
       "      <td>0.000062</td>\n",
       "      <td>0.000019</td>\n",
       "      <td>0.000043</td>\n",
       "    </tr>\n",
       "    <tr>\n",
       "      <th>202</th>\n",
       "      <td>0.000210</td>\n",
       "      <td>0.000026</td>\n",
       "      <td>0.000184</td>\n",
       "    </tr>\n",
       "    <tr>\n",
       "      <th>202</th>\n",
       "      <td>0.000070</td>\n",
       "      <td>0.000024</td>\n",
       "      <td>0.000046</td>\n",
       "    </tr>\n",
       "    <tr>\n",
       "      <th>206</th>\n",
       "      <td>0.000079</td>\n",
       "      <td>0.000025</td>\n",
       "      <td>0.000054</td>\n",
       "    </tr>\n",
       "    <tr>\n",
       "      <th>221</th>\n",
       "      <td>0.000073</td>\n",
       "      <td>0.000025</td>\n",
       "      <td>0.000048</td>\n",
       "    </tr>\n",
       "    <tr>\n",
       "      <th>288</th>\n",
       "      <td>0.000118</td>\n",
       "      <td>0.000038</td>\n",
       "      <td>0.000080</td>\n",
       "    </tr>\n",
       "    <tr>\n",
       "      <th>314</th>\n",
       "      <td>0.000110</td>\n",
       "      <td>0.000039</td>\n",
       "      <td>0.000071</td>\n",
       "    </tr>\n",
       "    <tr>\n",
       "      <th>370</th>\n",
       "      <td>0.000158</td>\n",
       "      <td>0.000055</td>\n",
       "      <td>0.000103</td>\n",
       "    </tr>\n",
       "    <tr>\n",
       "      <th>448</th>\n",
       "      <td>0.000299</td>\n",
       "      <td>0.000071</td>\n",
       "      <td>0.000228</td>\n",
       "    </tr>\n",
       "  </tbody>\n",
       "</table>\n",
       "</div>"
      ],
      "text/plain": [
       "        rec_time  for_time  diff_time\n",
       "number                               \n",
       "120     0.000043  0.000013   0.000030\n",
       "171     0.000062  0.000019   0.000043\n",
       "202     0.000210  0.000026   0.000184\n",
       "202     0.000070  0.000024   0.000046\n",
       "206     0.000079  0.000025   0.000054\n",
       "221     0.000073  0.000025   0.000048\n",
       "288     0.000118  0.000038   0.000080\n",
       "314     0.000110  0.000039   0.000071\n",
       "370     0.000158  0.000055   0.000103\n",
       "448     0.000299  0.000071   0.000228"
      ]
     },
     "execution_count": 10,
     "metadata": {},
     "output_type": "execute_result"
    }
   ],
   "source": [
    "timer_totals = timer.loc[:,['rec_time','for_time', 'diff_time']]\n",
    "timer_totals"
   ]
  },
  {
   "cell_type": "code",
   "execution_count": 11,
   "metadata": {},
   "outputs": [
    {
     "data": {
      "text/plain": [
       "<matplotlib.axes._subplots.AxesSubplot at 0x11507a940>"
      ]
     },
     "execution_count": 11,
     "metadata": {},
     "output_type": "execute_result"
    }
   ],
   "source": [
    "timer_totals.plot.bar(title = 'Plot 1: \\nTotal time to calculate n! where n = number on x-axis')"
   ]
  },
  {
   "cell_type": "code",
   "execution_count": 12,
   "metadata": {},
   "outputs": [
    {
     "data": {
      "text/html": [
       "<div>\n",
       "<style scoped>\n",
       "    .dataframe tbody tr th:only-of-type {\n",
       "        vertical-align: middle;\n",
       "    }\n",
       "\n",
       "    .dataframe tbody tr th {\n",
       "        vertical-align: top;\n",
       "    }\n",
       "\n",
       "    .dataframe thead th {\n",
       "        text-align: right;\n",
       "    }\n",
       "</style>\n",
       "<table border=\"1\" class=\"dataframe\">\n",
       "  <thead>\n",
       "    <tr style=\"text-align: right;\">\n",
       "      <th></th>\n",
       "      <th>rec_time_per</th>\n",
       "      <th>for_time_per</th>\n",
       "      <th>diff_time_per</th>\n",
       "    </tr>\n",
       "    <tr>\n",
       "      <th>number</th>\n",
       "      <th></th>\n",
       "      <th></th>\n",
       "      <th></th>\n",
       "    </tr>\n",
       "  </thead>\n",
       "  <tbody>\n",
       "    <tr>\n",
       "      <th>120</th>\n",
       "      <td>3.596147e-07</td>\n",
       "      <td>1.092752e-07</td>\n",
       "      <td>2.503395e-07</td>\n",
       "    </tr>\n",
       "    <tr>\n",
       "      <th>171</th>\n",
       "      <td>3.625078e-07</td>\n",
       "      <td>1.115409e-07</td>\n",
       "      <td>2.509669e-07</td>\n",
       "    </tr>\n",
       "    <tr>\n",
       "      <th>202</th>\n",
       "      <td>1.039835e-06</td>\n",
       "      <td>1.286516e-07</td>\n",
       "      <td>9.111839e-07</td>\n",
       "    </tr>\n",
       "    <tr>\n",
       "      <th>202</th>\n",
       "      <td>3.481855e-07</td>\n",
       "      <td>1.192093e-07</td>\n",
       "      <td>2.289763e-07</td>\n",
       "    </tr>\n",
       "    <tr>\n",
       "      <th>206</th>\n",
       "      <td>3.842474e-07</td>\n",
       "      <td>1.215240e-07</td>\n",
       "      <td>2.627234e-07</td>\n",
       "    </tr>\n",
       "    <tr>\n",
       "      <th>221</th>\n",
       "      <td>3.301180e-07</td>\n",
       "      <td>1.132758e-07</td>\n",
       "      <td>2.168422e-07</td>\n",
       "    </tr>\n",
       "    <tr>\n",
       "      <th>288</th>\n",
       "      <td>4.097819e-07</td>\n",
       "      <td>1.316269e-07</td>\n",
       "      <td>2.781550e-07</td>\n",
       "    </tr>\n",
       "    <tr>\n",
       "      <th>314</th>\n",
       "      <td>3.500349e-07</td>\n",
       "      <td>1.237651e-07</td>\n",
       "      <td>2.262699e-07</td>\n",
       "    </tr>\n",
       "    <tr>\n",
       "      <th>370</th>\n",
       "      <td>4.272203e-07</td>\n",
       "      <td>1.488505e-07</td>\n",
       "      <td>2.783698e-07</td>\n",
       "    </tr>\n",
       "    <tr>\n",
       "      <th>448</th>\n",
       "      <td>6.673591e-07</td>\n",
       "      <td>1.585909e-07</td>\n",
       "      <td>5.087682e-07</td>\n",
       "    </tr>\n",
       "  </tbody>\n",
       "</table>\n",
       "</div>"
      ],
      "text/plain": [
       "        rec_time_per  for_time_per  diff_time_per\n",
       "number                                           \n",
       "120     3.596147e-07  1.092752e-07   2.503395e-07\n",
       "171     3.625078e-07  1.115409e-07   2.509669e-07\n",
       "202     1.039835e-06  1.286516e-07   9.111839e-07\n",
       "202     3.481855e-07  1.192093e-07   2.289763e-07\n",
       "206     3.842474e-07  1.215240e-07   2.627234e-07\n",
       "221     3.301180e-07  1.132758e-07   2.168422e-07\n",
       "288     4.097819e-07  1.316269e-07   2.781550e-07\n",
       "314     3.500349e-07  1.237651e-07   2.262699e-07\n",
       "370     4.272203e-07  1.488505e-07   2.783698e-07\n",
       "448     6.673591e-07  1.585909e-07   5.087682e-07"
      ]
     },
     "execution_count": 12,
     "metadata": {},
     "output_type": "execute_result"
    }
   ],
   "source": [
    "timer_per = timer.loc[:,['rec_time_per','for_time_per', 'diff_time_per']]\n",
    "timer_per"
   ]
  },
  {
   "cell_type": "code",
   "execution_count": 13,
   "metadata": {},
   "outputs": [
    {
     "data": {
      "text/plain": [
       "<matplotlib.axes._subplots.AxesSubplot at 0x115433cc0>"
      ]
     },
     "execution_count": 13,
     "metadata": {},
     "output_type": "execute_result"
    },
    {
     "data": {
      "image/png": "[encoded data removed]",
      "text/plain": [
       "<Figure size 432x288 with 1 Axes>"
      ]
     },
     "metadata": {
      "needs_background": "light"
     },
     "output_type": "display_data"
    }
   ],
   "source": [
    "timer_per.plot.bar(title = 'Plot 2: Time per digit operation\\n= total time/n=number on x-axis')"
   ]
  },
  {
   "cell_type": "code",
   "execution_count": 14,
   "metadata": {},
   "outputs": [
    {
     "data": {
      "text/plain": [
       "number\n",
       "120    3.290909\n",
       "171    3.250000\n",
       "202    8.082569\n",
       "202    2.920792\n",
       "206    3.161905\n",
       "221    2.914286\n",
       "288    3.113208\n",
       "314    2.828221\n",
       "370    2.870130\n",
       "448    4.208054\n",
       "Name: ratio_per, dtype: float64"
      ]
     },
     "execution_count": 14,
     "metadata": {},
     "output_type": "execute_result"
    }
   ],
   "source": [
    "timer_ratio_per = timer.ratio_per\n",
    "#timer_ratio_per = pd.DataFrame(data=timer_ratio_per, columns=['rec/for per operation'])\n",
    "timer_ratio_per"
   ]
  },
  {
   "cell_type": "code",
   "execution_count": 15,
   "metadata": {},
   "outputs": [
    {
     "data": {
      "text/plain": [
       "<matplotlib.axes._subplots.AxesSubplot at 0x1154d4390>"
      ]
     },
     "execution_count": 15,
     "metadata": {},
     "output_type": "execute_result"
    },
    {
     "data": {
      "image/png": "[encoded data removed]",
      "text/plain": [
       "<Figure size 432x288 with 1 Axes>"
      ]
     },
     "metadata": {
      "needs_background": "light"
     },
     "output_type": "display_data"
    }
   ],
   "source": [
    "timer_ratio_per.plot.bar(title = 'Plot 3: Time per digit operation\\nRatio = Recursive / For loop per operation times')"
   ]
  },
  {
   "cell_type": "raw",
   "metadata": {},
   "source": [
    "What can be seen from Plot 1 are total times to complete n! calculation, where n=number on the x-axis sorted from smallest n to largest n: recursive takes longer than for loop calculation of factorial and the size of the number is a contributing factor to all measured times.  Larger numbers have longer calculation times as loops need to be executed once for each digit in the sequence of multiplications: 3!=3*2*1 has one fewer loop than 4!=4*3*2*1.  \n",
    "\n",
    "Let's refer to each loop as an operation.\n",
    "\n",
    "From Plot 2, we can see that per operation time is relatively stable for recursive and for loop calculation and for their difference.  This plot's data frame divides total time by the number whose factorial is being calculated as a proxy for the number of loops or multiplications required to generate a factorial result.  We can see that recursive takes a similarly larger amount of time per operation than for the for loop.  \n",
    "\n",
    "Plot 3 shows the recursive time as a multiple or ratio of of loop time, consistently between 2.5 and 3.5. \n",
    "\n",
    "Exceptions to the above occur randomly and might be due to other computer operations tying up the processor. \n",
    "\n",
    "In terms of Big O notation, it appears thusly that if for loop execution is O(n), then recursive is O(3n) possibly related to the need for for loops to simply multiply 2 numbers together for every operation where recursive needs to: check the value of the number each time = 1 or not, mutliply by x then to multiply by x-1 it must recall itself. So those operations that build and break down the call stack cause recursion to take at least a multiple of the for loop operations.\n",
    "\n",
    "(There is one extra line in recursive, the x=int(x), and it did not seem to add time to the recursive.)  "
   ]
  }
 ],
 "metadata": {
  "kernelspec": {
   "display_name": "Python 3",
   "language": "python",
   "name": "python3"
  },
  "language_info": {
   "codemirror_mode": {
    "name": "ipython",
    "version": 3
   },
   "file_extension": ".py",
   "mimetype": "text/x-python",
   "name": "python",
   "nbconvert_exporter": "python",
   "pygments_lexer": "ipython3",
   "version": "3.7.3"
  }
 },
 "nbformat": 4,
 "nbformat_minor": 2
}
