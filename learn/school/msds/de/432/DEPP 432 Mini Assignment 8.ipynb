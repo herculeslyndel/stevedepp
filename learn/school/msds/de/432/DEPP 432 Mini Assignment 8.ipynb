{
 "cells": [
  {
   "cell_type": "raw",
   "metadata": {},
   "source": [
    "Steve Depp \n",
    "432 - 55\n",
    "Mini Programming Assignment 8: "
   ]
  },
  {
   "cell_type": "raw",
   "metadata": {},
   "source": [
    "Small security company provides 24x7 security with 6 security guards for 24 hours or 24 hours x 7 days via 6 guards.\n",
    "Goal: inimize wages.  \n",
    "Wage structure is:\n",
    "\n",
    "    wage_8_or_less = 15\n",
    "    wage_more_than_8 = 20"
   ]
  },
  {
   "cell_type": "raw",
   "metadata": {},
   "source": [
    "This greedy algorithm finds the least cost but effective solution by determining how many guards to employ over 24 hours, and the daily wage cost."
   ]
  },
  {
   "cell_type": "raw",
   "metadata": {},
   "source": [
    "Default parameter values\n",
    "Import numpy for np.inf to initialize of min_daily_wages\n",
    "Loop through all possible guards\n",
    "    compute n_hours_per_shift = 24 / number of guards working\n",
    "    2 cases for hourly wagues: compute daily_wages:\n",
    "        n_hours_per_shift <= 8 makes for lower wage\n",
    "        n_hours_per_shiftg > 8 makes for higher wage\n",
    "    compute daily wage \n",
    "    test if daily wage < minimum. if so assign daily wage to minimum.\n",
    "    return guards, hours, wages"
   ]
  },
  {
   "cell_type": "code",
   "execution_count": 7,
   "metadata": {},
   "outputs": [],
   "source": [
    "def how_many_guards_per_day(n_guards=6, wage_8_or_less=15, wage_more_than_8=20):\n",
    "    import numpy as np\n",
    "    n_hours_per_day = 24\n",
    "    min_daily_wages = np.inf\n",
    "    for n_guards_working in range(1,n_guards+1):\n",
    "        n_hours_per_shift = n_hours_per_day / n_guards_working\n",
    "        if n_hours_per_shift <= 8:\n",
    "            wage = wage_8_or_less\n",
    "        else:\n",
    "            wage = wage_more_than_8\n",
    "        daily_wages = n_hours_per_shift*wage*n_guards_working\n",
    "        if daily_wages < min_daily_wages:\n",
    "            right_n_guards = n_guards_working\n",
    "            min_daily_wages = daily_wages\n",
    "    return right_n_guards, n_hours_per_day/right_n_guards, min_daily_wages"
   ]
  },
  {
   "cell_type": "code",
   "execution_count": 8,
   "metadata": {},
   "outputs": [
    {
     "name": "stdout",
     "output_type": "stream",
     "text": [
      "Hire 3 guards for 8.0 hours per day for total daily cost: 360.0\n"
     ]
    }
   ],
   "source": [
    "guards, hours, wage_bill = how_many_guards_per_day(6, 15, 20)\n",
    "print('Hire', guards, 'guards for', hours, 'hours per day for total daily cost:', wage_bill)"
   ]
  },
  {
   "cell_type": "raw",
   "metadata": {},
   "source": [
    "This is a simple solution as there are no constraints on numbers of hours worked.  It works through all possible numbers of guards and compares the solution each time. A more complex solution might employ a linear program to compute a corner solution.  As this solution moves through each item in the range array bounding the loop, it is moving in O(n) time. A more complex solution might only require one step. "
   ]
  }
 ],
 "metadata": {
  "kernelspec": {
   "display_name": "Python 3",
   "language": "python",
   "name": "python3"
  },
  "language_info": {
   "codemirror_mode": {
    "name": "ipython",
    "version": 3
   },
   "file_extension": ".py",
   "mimetype": "text/x-python",
   "name": "python",
   "nbconvert_exporter": "python",
   "pygments_lexer": "ipython3",
   "version": "3.7.3"
  }
 },
 "nbformat": 4,
 "nbformat_minor": 2
}
