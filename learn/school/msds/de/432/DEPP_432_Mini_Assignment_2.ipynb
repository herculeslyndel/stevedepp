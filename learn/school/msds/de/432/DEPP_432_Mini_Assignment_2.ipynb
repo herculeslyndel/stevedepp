{
 "cells": [
  {
   "cell_type": "raw",
   "metadata": {},
   "source": [
    "Steve Depp \n",
    "432 - 55\n",
    "Mini Programming Assignment 2: Implement a Selection Sort Algorithm"
   ]
  },
  {
   "cell_type": "raw",
   "metadata": {},
   "source": [
    "Import libraries and set the random seed"
   ]
  },
  {
   "cell_type": "code",
   "execution_count": 1,
   "metadata": {},
   "outputs": [],
   "source": [
    "import numpy as np\n",
    "import time\n",
    "import pandas as pd\n",
    "\n",
    "np.random.seed(seed=42)"
   ]
  },
  {
   "cell_type": "raw",
   "metadata": {},
   "source": [
    "selection_sort \n",
    "1. takes an array argument, arr\n",
    "2. initializes a new array, new_array, \n",
    "3. finds i number smallest elements in the arr,\n",
    "4. appends each smallest element to new_array,\n",
    "5. pops smallest element from arr,\n",
    "6. returns new_arr after i elements of arr have been surveyed.\n",
    "\n",
    "find_smallest\n",
    "1. takes an array arguemnt, arr, from selection_sort,\n",
    "   (this arr will be shorter and shorter \n",
    "   with each pass of selection_sort)\n",
    "2. initiallizes smallest as first element in arr, index=0\n",
    "3. for all i elements in arr, \n",
    "4. finds item smaller than smallest, if any\n",
    "5. returns i = index of smallest item in arr\n",
    "\n",
    "newArrEach time it cuts the list in half it eliminates half the length from searchable distance.  Cutting half sequentially is the reverse of exponent 2, which is why binary search operates in log2 time.\n",
    "\n",
    "Linear search commences at the first element and never cuts out any of the distance, but simply travels the entire distance from zero to the end of the list. "
   ]
  },
  {
   "cell_type": "code",
   "execution_count": 2,
   "metadata": {},
   "outputs": [
    {
     "name": "stdout",
     "output_type": "stream",
     "text": [
      "[2, 3, 5, 6, 10]\n"
     ]
    }
   ],
   "source": [
    "def find_smallest(arr):\n",
    "  smallest = arr[0]     # Stores the smallest value\n",
    "  smallest_index = 0    # Stores the index of the smallest value\n",
    "  for i in range(1, len(arr)):\n",
    "    if arr[i] < smallest:\n",
    "      smallest = arr[i]\n",
    "      smallest_index = i\n",
    "  return smallest_index\n",
    "\n",
    "def selection_sort(arr): # Sort array\n",
    "  new_arr = []\n",
    "  for i in range(len(arr)): \n",
    "      smallest = find_smallest(arr)  # Finds the smallest array element\n",
    "      new_arr.append(arr.pop(smallest))  # Adds that element to new_array\n",
    "  return new_arr\n",
    "\n",
    "print (selection_sort([5, 3, 6, 2, 10]))"
   ]
  },
  {
   "cell_type": "raw",
   "metadata": {},
   "source": [
    "Here we set a DataFrame object, timer, with 3 column labels needed.\n",
    "Then a for loop passes through 5 arrays of size = i. Each time:\n",
    "    create an empty nd.array, timer_array,\n",
    "    append i = the size of the searched array to timer_array\n",
    "    create an array of length i with random elements between zero and 100,000\n",
    "    append the time to numpy sort the array a to timer_array\n",
    "    append the time to selection sort the array a to timer_array\n",
    "    convert timer_array to pandas Series object and append as row to timer df object"
   ]
  },
  {
   "cell_type": "code",
   "execution_count": 3,
   "metadata": {},
   "outputs": [
    {
     "name": "stdout",
     "output_type": "stream",
     "text": [
      "len            5000.000000\n",
      "np.sort           0.000879\n",
      "select sort       0.589880\n",
      "dtype: float64\n",
      "len            10000.000000\n",
      "np.sort            0.000769\n",
      "select sort        2.346072\n",
      "dtype: float64\n",
      "len            15000.000000\n",
      "np.sort            0.001086\n",
      "select sort        5.385157\n",
      "dtype: float64\n",
      "len            20000.000000\n",
      "np.sort            0.001421\n",
      "select sort        9.554824\n",
      "dtype: float64\n",
      "len            25000.000000\n",
      "np.sort            0.002303\n",
      "select sort       15.066928\n",
      "dtype: float64\n"
     ]
    }
   ],
   "source": [
    "timer = pd.DataFrame(columns=['len','np.sort', 'select sort'])\n",
    "for i in [5000, 10000, 15000, 20000, 25000]:\n",
    "    \n",
    "    timer_array=[]\n",
    "    \n",
    "    timer_array.append(i)\n",
    "    a = np.random.randint(100000, size=(1, i))\n",
    "    a = a.tolist()[0]\n",
    "\n",
    "    np_sort_start = time.time()\n",
    "    temp = np.sort(a)\n",
    "    np_sort_end = time.time()\n",
    "    np_sort_time = np_sort_end-np_sort_start\n",
    "    timer_array.append(np_sort_time)\n",
    "        \n",
    "    selection_start = time.time()\n",
    "    selection_sort(a)\n",
    "    selection_end = time.time()\n",
    "    selection_time = selection_end-selection_start\n",
    "    timer_array.append(selection_time)\n",
    "        \n",
    "    r = pd.Series(timer_array, index=timer.columns)\n",
    "    timer = timer.append(r, ignore_index=True)"
   ]
  },
  {
   "cell_type": "raw",
   "metadata": {},
   "source": [
    "This code\n",
    "1. calculates big O time for current row i as follows\n",
    "2. if i = 0, it is the 1st row, and time is the number in 'select sort' column\n",
    "3. if i = 1 or greater then \n",
    "    time = \n",
    "    previous 'select sort' time\n",
    "    mulitplied by the ratio of\n",
    "        n(i)**2 / n(i-1)**2\n",
    "        where n(i) is the len of the current row's array\n",
    "        and n(i-1) is the len of the previous row's array.\n",
    "4. places this quantity in the current row i"
   ]
  },
  {
   "cell_type": "code",
   "execution_count": 4,
   "metadata": {},
   "outputs": [
    {
     "data": {
      "text/html": [
       "<div>\n",
       "<style scoped>\n",
       "    .dataframe tbody tr th:only-of-type {\n",
       "        vertical-align: middle;\n",
       "    }\n",
       "\n",
       "    .dataframe tbody tr th {\n",
       "        vertical-align: top;\n",
       "    }\n",
       "\n",
       "    .dataframe thead th {\n",
       "        text-align: right;\n",
       "    }\n",
       "</style>\n",
       "<table border=\"1\" class=\"dataframe\">\n",
       "  <thead>\n",
       "    <tr style=\"text-align: right;\">\n",
       "      <th></th>\n",
       "      <th>np.sort</th>\n",
       "      <th>select sort</th>\n",
       "      <th>big O(n*.5*n)</th>\n",
       "    </tr>\n",
       "    <tr>\n",
       "      <th>len</th>\n",
       "      <th></th>\n",
       "      <th></th>\n",
       "      <th></th>\n",
       "    </tr>\n",
       "  </thead>\n",
       "  <tbody>\n",
       "    <tr>\n",
       "      <th>5000.0</th>\n",
       "      <td>0.000879</td>\n",
       "      <td>0.589880</td>\n",
       "      <td>0.589880</td>\n",
       "    </tr>\n",
       "    <tr>\n",
       "      <th>10000.0</th>\n",
       "      <td>0.000769</td>\n",
       "      <td>2.346072</td>\n",
       "      <td>2.359519</td>\n",
       "    </tr>\n",
       "    <tr>\n",
       "      <th>15000.0</th>\n",
       "      <td>0.001086</td>\n",
       "      <td>5.385157</td>\n",
       "      <td>5.278662</td>\n",
       "    </tr>\n",
       "    <tr>\n",
       "      <th>20000.0</th>\n",
       "      <td>0.001421</td>\n",
       "      <td>9.554824</td>\n",
       "      <td>9.573612</td>\n",
       "    </tr>\n",
       "    <tr>\n",
       "      <th>25000.0</th>\n",
       "      <td>0.002303</td>\n",
       "      <td>15.066928</td>\n",
       "      <td>14.929412</td>\n",
       "    </tr>\n",
       "  </tbody>\n",
       "</table>\n",
       "</div>"
      ],
      "text/plain": [
       "          np.sort  select sort  big O(n*.5*n)\n",
       "len                                          \n",
       "5000.0   0.000879     0.589880       0.589880\n",
       "10000.0  0.000769     2.346072       2.359519\n",
       "15000.0  0.001086     5.385157       5.278662\n",
       "20000.0  0.001421     9.554824       9.573612\n",
       "25000.0  0.002303    15.066928      14.929412"
      ]
     },
     "execution_count": 4,
     "metadata": {},
     "output_type": "execute_result"
    }
   ],
   "source": [
    "timer = timer.set_index('len')\n",
    "timer['big O(n*.5*n)']=4\n",
    "for i in range(len(timer.index)):\n",
    "    if i == 0:\n",
    "        timer['big O(n*.5*n)']=timer['select sort']\n",
    "    else:\n",
    "        timer['big O(n*.5*n)'][i]=timer['select sort'].iloc[i-1]*(timer.index[i]**2)/(timer.index[i-1]**2)*1.0\n",
    "timer"
   ]
  },
  {
   "cell_type": "raw",
   "metadata": {},
   "source": [
    "Plot simply demonstrates\n",
    "1. how much faster numpy sort is: it doesnt even show up!\n",
    "2. how select sort grows curvelinear fashion\n",
    "3. how the estimate of select sort big (O) time is correct = .5*n**2"
   ]
  },
  {
   "cell_type": "code",
   "execution_count": 5,
   "metadata": {},
   "outputs": [
    {
     "data": {
      "text/plain": [
       "<matplotlib.axes._subplots.AxesSubplot at 0x117257b70>"
      ]
     },
     "execution_count": 5,
     "metadata": {},
     "output_type": "execute_result"
    }
   ],
   "source": [
    "timer.plot.bar()"
   ]
  },
  {
   "cell_type": "raw",
   "metadata": {},
   "source": [
    "The estimate of time taken to sort n items grows in proportion to the formula (.5)*(n**2).\n",
    "This estimate is very precise, as can be seen from the comparison of organge and green bars, but in big O notation constants like 1/2 are ignored."
   ]
  },
  {
   "cell_type": "code",
   "execution_count": null,
   "metadata": {},
   "outputs": [],
   "source": []
  }
 ],
 "metadata": {
  "kernelspec": {
   "display_name": "Python 3",
   "language": "python",
   "name": "python3"
  },
  "language_info": {
   "codemirror_mode": {
    "name": "ipython",
    "version": 3
   },
   "file_extension": ".py",
   "mimetype": "text/x-python",
   "name": "python",
   "nbconvert_exporter": "python",
   "pygments_lexer": "ipython3",
   "version": "3.7.3"
  }
 },
 "nbformat": 4,
 "nbformat_minor": 2
}
