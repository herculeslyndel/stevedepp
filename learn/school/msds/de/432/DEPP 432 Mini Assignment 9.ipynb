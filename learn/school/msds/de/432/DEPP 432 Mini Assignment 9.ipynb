{
 "cells": [
  {
   "cell_type": "raw",
   "metadata": {},
   "source": [
    "Steve Depp \n",
    "432 - 55\n",
    "Mini Programming Assignment 7: "
   ]
  },
  {
   "cell_type": "raw",
   "metadata": {},
   "source": [
    "This code is very simple.  I tried very hard to replicate the matrix multiplication example but even with a few hours of study, I found I was still only about 70% through.  I will re approach that during break!\n",
    "\n",
    "For this code, the first keeps the results in a stack.\n",
    "\n",
    "The second initializes an array with the first 2 Fibonacci numbers and returns the nth indexed array item.\n",
    "So, if n is less than or equal to 1, then it is either 1 or 0 and that is the Fibonacci number returned from the initialized array.\n",
    "Otherwise, working through the range from 2 to n+1, the previous 2 array items are summed and made into the ith array item. \n",
    "The nth array item is returned.\n",
    "I am not entirely sure this adheres to dynamic programming as we are copying items over twice where the assignment can be viewed as computation (finding an item in a list).s"
   ]
  },
  {
   "cell_type": "code",
   "execution_count": 39,
   "metadata": {},
   "outputs": [],
   "source": [
    "def fib1(n): \n",
    "    a = 0\n",
    "    b = 1\n",
    "    if n <= 1:\n",
    "        return n\n",
    "    else: \n",
    "        for i in range(2, n+1): \n",
    "            c = a + b \n",
    "            a = b \n",
    "            b = c \n",
    "        return b "
   ]
  },
  {
   "cell_type": "code",
   "execution_count": 40,
   "metadata": {},
   "outputs": [
    {
     "data": {
      "text/plain": [
       "55"
      ]
     },
     "execution_count": 40,
     "metadata": {},
     "output_type": "execute_result"
    }
   ],
   "source": [
    "fib1(10)"
   ]
  },
  {
   "cell_type": "code",
   "execution_count": 37,
   "metadata": {},
   "outputs": [],
   "source": [
    "def fib2(n):\n",
    "    table = [0, 1]\n",
    "    for i in range(2,n+1):\n",
    "        table.append(table[i-1]+table[i-2])\n",
    "    return table[n]"
   ]
  },
  {
   "cell_type": "code",
   "execution_count": 38,
   "metadata": {},
   "outputs": [
    {
     "data": {
      "text/plain": [
       "55"
      ]
     },
     "execution_count": 38,
     "metadata": {},
     "output_type": "execute_result"
    }
   ],
   "source": [
    "fib2(10)"
   ]
  },
  {
   "cell_type": "raw",
   "metadata": {},
   "source": [
    "This function finds the nth Fibonacci number in O(n) time as it must touch each of the items up to the nth in a range item as it proceeds through a for loop and append the sum of the previous 2 items to an array. "
   ]
  }
 ],
 "metadata": {
  "kernelspec": {
   "display_name": "Python 3",
   "language": "python",
   "name": "python3"
  },
  "language_info": {
   "codemirror_mode": {
    "name": "ipython",
    "version": 3
   },
   "file_extension": ".py",
   "mimetype": "text/x-python",
   "name": "python",
   "nbconvert_exporter": "python",
   "pygments_lexer": "ipython3",
   "version": "3.7.3"
  }
 },
 "nbformat": 4,
 "nbformat_minor": 2
}
