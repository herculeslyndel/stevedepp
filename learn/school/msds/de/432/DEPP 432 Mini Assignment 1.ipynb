{
 "cells": [
  {
   "cell_type": "raw",
   "metadata": {},
   "source": [
    "Import libraries and set the random seed"
   ]
  },
  {
   "cell_type": "code",
   "execution_count": 137,
   "metadata": {},
   "outputs": [],
   "source": [
    "import numpy as np\n",
    "import time\n",
    "import pandas as pd\n",
    "\n",
    "np.random.seed(seed=42)"
   ]
  },
  {
   "cell_type": "raw",
   "metadata": {},
   "source": [
    "Binary search commences at the middle of the list length and then cuts the list in half and searches the half into which the item is located.  Each time it cuts the list in half it eliminates half the length from searchable distance.  Cutting half sequentially is the reverse of exponent 2, which is why binary search operates in log2 time.\n",
    "\n",
    "Linear search commences at the first element and never cuts out any of the distance, but simply travels the entire distance from zero to the end of the list. "
   ]
  },
  {
   "cell_type": "code",
   "execution_count": 138,
   "metadata": {},
   "outputs": [],
   "source": [
    "def binary_search(list, item):\n",
    "    low = 0\n",
    "    high = len (list)-1\n",
    "    while low <= high:\n",
    "        mid = (low + high) // 2\n",
    "        guess = list[mid]\n",
    "        if guess == item:\n",
    "            return mid\n",
    "        if guess > item:\n",
    "            high = mid - 1\n",
    "        else:\n",
    "            low = mid + 1\n",
    "    return None\n",
    "\n",
    "def linear_search(list, item):\n",
    "    i = 0\n",
    "    high = len(list)-1\n",
    "    while i <= high:\n",
    "        if i == item:\n",
    "            return i\n",
    "        else:\n",
    "            i +=1\n",
    "    return None"
   ]
  },
  {
   "cell_type": "raw",
   "metadata": {},
   "source": [
    "Here we set a DataFrame object, timer, with the column labels needed.\n",
    "Then a for loop passes through 5 list sizes = i. Each time:\n",
    "    create an empty list, timer_list,\n",
    "    append i = the size of the searched list to timer_list\n",
    "    create an array length i with random elements between zero and 10000\n",
    "    append the time to sort the searched list to timer_list\n",
    "    append the time to linearly search the sorted list to timer_list\n",
    "    append the time to binary search the sorted list to timer_list\n",
    "    append the time to sort and linearly search the list to timer_list\n",
    "    append the time to sort and binary search the list to timer_list\n",
    "    convert timer_list to pandas Series object and append as row to timer df object"
   ]
  },
  {
   "cell_type": "code",
   "execution_count": 139,
   "metadata": {},
   "outputs": [],
   "source": [
    "\n",
    "timer = pd.DataFrame(columns=['len','sort', 'lin', 'bin', 'sort+lin', 'sort+bin'])\n",
    "for i in [512, 1024, 2048, 4096, 8192]:\n",
    "    \n",
    "    timer_list=[]\n",
    "    \n",
    "    timer_list.append(i)\n",
    "    a = np.random.randint(10000, size=(1, i))\n",
    "    \n",
    "    sort_start = time.time()\n",
    "    a = np.sort(a)\n",
    "    sort_end = time.time()\n",
    "    sort_time = sort_end-sort_start\n",
    "    timer_list.append(sort_time)\n",
    "    \n",
    "    a = a.tolist()[0]\n",
    "    search_a = max(a)\n",
    "    \n",
    "    linear_start = time.time()\n",
    "    linear_search(a, search_a)\n",
    "    linear_end = time.time()\n",
    "    linear_time = linear_end-linear_start\n",
    "    timer_list.append(linear_time)\n",
    "    \n",
    "    binary_start = time.time()\n",
    "    binary_search(a, search_a)\n",
    "    binary_end = time.time()\n",
    "    binary_time = binary_end-binary_start\n",
    "    timer_list.append(binary_time)\n",
    "    \n",
    "    timer_list.append(sort_time+linear_time)\n",
    "    timer_list.append(sort_time+binary_time)\n",
    "    \n",
    "    r = pd.Series(timer_list, index=timer.columns)\n",
    "    timer = timer.append(r, ignore_index=True)"
   ]
  },
  {
   "cell_type": "raw",
   "metadata": {},
   "source": [
    "This code simply plots the df object as bar and line charts"
   ]
  },
  {
   "cell_type": "code",
   "execution_count": 140,
   "metadata": {},
   "outputs": [
    {
     "data": {
      "text/html": [
       "<div>\n",
       "<style scoped>\n",
       "    .dataframe tbody tr th:only-of-type {\n",
       "        vertical-align: middle;\n",
       "    }\n",
       "\n",
       "    .dataframe tbody tr th {\n",
       "        vertical-align: top;\n",
       "    }\n",
       "\n",
       "    .dataframe thead th {\n",
       "        text-align: right;\n",
       "    }\n",
       "</style>\n",
       "<table border=\"1\" class=\"dataframe\">\n",
       "  <thead>\n",
       "    <tr style=\"text-align: right;\">\n",
       "      <th></th>\n",
       "      <th>sort</th>\n",
       "      <th>lin</th>\n",
       "      <th>bin</th>\n",
       "      <th>sort+lin</th>\n",
       "      <th>sort+bin</th>\n",
       "    </tr>\n",
       "    <tr>\n",
       "      <th>len</th>\n",
       "      <th></th>\n",
       "      <th></th>\n",
       "      <th></th>\n",
       "      <th></th>\n",
       "      <th></th>\n",
       "    </tr>\n",
       "  </thead>\n",
       "  <tbody>\n",
       "    <tr>\n",
       "      <th>512.0</th>\n",
       "      <td>0.000041</td>\n",
       "      <td>0.000042</td>\n",
       "      <td>0.000004</td>\n",
       "      <td>0.000083</td>\n",
       "      <td>0.000045</td>\n",
       "    </tr>\n",
       "    <tr>\n",
       "      <th>1024.0</th>\n",
       "      <td>0.000272</td>\n",
       "      <td>0.000085</td>\n",
       "      <td>0.000004</td>\n",
       "      <td>0.000357</td>\n",
       "      <td>0.000276</td>\n",
       "    </tr>\n",
       "    <tr>\n",
       "      <th>2048.0</th>\n",
       "      <td>0.000111</td>\n",
       "      <td>0.000180</td>\n",
       "      <td>0.000007</td>\n",
       "      <td>0.000291</td>\n",
       "      <td>0.000118</td>\n",
       "    </tr>\n",
       "    <tr>\n",
       "      <th>4096.0</th>\n",
       "      <td>0.000202</td>\n",
       "      <td>0.000334</td>\n",
       "      <td>0.000006</td>\n",
       "      <td>0.000536</td>\n",
       "      <td>0.000208</td>\n",
       "    </tr>\n",
       "    <tr>\n",
       "      <th>8192.0</th>\n",
       "      <td>0.000427</td>\n",
       "      <td>0.000676</td>\n",
       "      <td>0.000007</td>\n",
       "      <td>0.001103</td>\n",
       "      <td>0.000434</td>\n",
       "    </tr>\n",
       "  </tbody>\n",
       "</table>\n",
       "</div>"
      ],
      "text/plain": [
       "            sort       lin       bin  sort+lin  sort+bin\n",
       "len                                                     \n",
       "512.0   0.000041  0.000042  0.000004  0.000083  0.000045\n",
       "1024.0  0.000272  0.000085  0.000004  0.000357  0.000276\n",
       "2048.0  0.000111  0.000180  0.000007  0.000291  0.000118\n",
       "4096.0  0.000202  0.000334  0.000006  0.000536  0.000208\n",
       "8192.0  0.000427  0.000676  0.000007  0.001103  0.000434"
      ]
     },
     "execution_count": 140,
     "metadata": {},
     "output_type": "execute_result"
    },
    {
     "data": {
      "image/png": "[encoded data removed]",
      "text/plain": [
       "<Figure size 432x288 with 1 Axes>"
      ]
     },
     "metadata": {
      "needs_background": "light"
     },
     "output_type": "display_data"
    },
    {
     "data": {
      "image/png": "[encoded data removed]",
      "text/plain": [
       "<Figure size 432x288 with 1 Axes>"
      ]
     },
     "metadata": {
      "needs_background": "light"
     },
     "output_type": "display_data"
    }
   ],
   "source": [
    "timer.set_index('len').plot.bar()\n",
    "timer.set_index('len').plot.line()\n",
    "timer.set_index('len')"
   ]
  },
  {
   "cell_type": "raw",
   "metadata": {},
   "source": [
    "These 2 plots show that sorting = linear search = binary search for small set sizes ~ 1024 elements, but that as size grows beyond 1024, the cost of sorting and linear search rise linearly while binary search appears to remain constant, but is just growing very slowly.  The reason for this is that binary search increases by just one additional step from 1024 to 2048, in log time, while linear increases by the difference between 2018 and 1024 as the set size increases. "
   ]
  },
  {
   "cell_type": "code",
   "execution_count": null,
   "metadata": {},
   "outputs": [],
   "source": []
  }
 ],
 "metadata": {
  "kernelspec": {
   "display_name": "Python 3",
   "language": "python",
   "name": "python3"
  },
  "language_info": {
   "codemirror_mode": {
    "name": "ipython",
    "version": 3
   },
   "file_extension": ".py",
   "mimetype": "text/x-python",
   "name": "python",
   "nbconvert_exporter": "python",
   "pygments_lexer": "ipython3",
   "version": "3.6.8"
  }
 },
 "nbformat": 4,
 "nbformat_minor": 2
}
